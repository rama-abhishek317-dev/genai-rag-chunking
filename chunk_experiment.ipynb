{
 "cells": [
  {
   "cell_type": "code",
   "execution_count": null,
   "id": "8c1c6979",
   "metadata": {},
   "outputs": [],
   "source": [
    "from langchain_community.document_loaders import TextLoader\n",
    "from langchain_text_splitters import RecursiveCharacterTextSplitter\n",
    "from langchain_huggingface import HuggingFaceEmbeddings\n",
    "from langchain_community.vectorstores import Chroma\n",
    "\n",
    "DOC_PATH = \"docs/sample.txt\"\n",
    "PROMPT = \"How do you handle employee grievances?\"\n",
    "CHUNK_SETTINGS = [\n",
    "    {'name': 'Tiny', 'size': 100, 'overlap': 20},\n",
    "    {'name': 'Ideal', 'size': 300, 'overlap': 50},\n",
    "    {'name': 'Huge', 'size': 1000, 'overlap': 100},\n",
    "]\n",
    "\n",
    "def load_doc(path):\n",
    "    return TextLoader(path).load()\n",
    "\n",
    "def run_experiment(name, size, overlap, docs, prompt):\n",
    "    splitter = RecursiveCharacterTextSplitter(chunk_size=size, chunk_overlap=overlap)\n",
    "    chunks = splitter.split_documents(docs)\n",
    "    embedding = HuggingFaceEmbeddings(model_name='all-MiniLM-L6-v2')\n",
    "    db = Chroma.from_documents(chunks, embedding)\n",
    "    retriever = db.as_retriever()\n",
    "    results = retriever.invoke(prompt)\n",
    "    print(f'\\n=== {name} Chunk ===')\n",
    "    for i, doc in enumerate(results):\n",
    "        print(f'[{i+1}] {doc.page_content[:200]}...\\n')\n",
    "\n",
    "documents = load_doc(DOC_PATH)\n",
    "for config in CHUNK_SETTINGS:\n",
    "    run_experiment(config['name'], config['size'], config['overlap'], documents, PROMPT)\n"
   ]
  }
 ],
 "metadata": {},
 "nbformat": 4,
 "nbformat_minor": 5
}
